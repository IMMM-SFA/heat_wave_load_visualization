{
 "cells": [
  {
   "cell_type": "markdown",
   "id": "9e071b84",
   "metadata": {
    "pycharm": {
     "name": "#%% md\n"
    }
   },
   "source": [
    "# Run TELL\n",
    "\n",
    "This notebook executes the TELL runs for the IM3 visualization task."
   ]
  },
  {
   "cell_type": "code",
   "execution_count": 1,
   "id": "86db683a-70a2-4f89-a1d6-4c6d5f180272",
   "metadata": {
    "pycharm": {
     "name": "#%%\n"
    }
   },
   "outputs": [],
   "source": [
    "# Start by importing the TELL package and information about your operating system:\n",
    "import os \n",
    "import tell\n"
   ]
  },
  {
   "cell_type": "markdown",
   "id": "566fce96-4576-4a2d-9db6-4d0be72b3c1d",
   "metadata": {
    "pycharm": {
     "name": "#%% md\n"
    }
   },
   "source": [
    "## Set the Directory Structure"
   ]
  },
  {
   "cell_type": "code",
   "execution_count": 2,
   "id": "f7cc0f66-ba83-47d4-b161-0b1ad076064c",
   "metadata": {
    "pycharm": {
     "name": "#%%\n"
    }
   },
   "outputs": [],
   "source": [
    "# Identify the top-level directory and the subdirectory where the data will be stored:\n",
    "current_dir =  '/Users/burl878/Documents/IMMM/Data/TELL/Production_Runs'\n",
    "tell_data_dir = os.path.join(current_dir, r'tell_data')\n",
    "\n",
    "# If the \"tell_data_dir\" subdirectory doesn't exist then create it:\n",
    "if not os.path.exists(tell_data_dir):\n",
    "   os.makedirs(tell_data_dir)\n"
   ]
  },
  {
   "cell_type": "markdown",
   "id": "f9048639",
   "metadata": {
    "pycharm": {
     "name": "#%% md\n"
    }
   },
   "source": [
    "## Run the Forward Execution"
   ]
  },
  {
   "cell_type": "code",
   "execution_count": 3,
   "id": "04afab9a",
   "metadata": {
    "pycharm": {
     "name": "#%%\n"
    }
   },
   "outputs": [
    {
     "name": "stdout",
     "output_type": "stream",
     "text": [
      "Start time =  2023-09-18 11:11:17.273014\n",
      "End time =  2023-09-18 11:12:25.761434\n",
      "Elapsed time =  0:01:08.488524\n"
     ]
    }
   ],
   "source": [
    "# Run the TELL model:\n",
    "summary_df, ba_time_series_df, state_time_series_df = tell.execute_forward(year_to_process = '1980',\n",
    "                                                                           gcam_target_year = '2019', \n",
    "                                                                           scenario_to_process = 'historic',\n",
    "                                                                           data_output_dir = '/Users/burl878/Documents/Code/code_repos/heat_wave_load_visualization/data/tell_output',\n",
    "                                                                           gcam_usa_input_dir = '/Users/burl878/Documents/IMMM/Data/TELL/Production_Runs/tell_data/gcamusa_data',\n",
    "                                                                           map_input_dir = '/Users/burl878/Documents/IMMM/Data/TELL/Production_Runs/tell_data/ba_service_territory_data',\n",
    "                                                                           mlp_input_dir = '/Users/burl878/Documents/IMMM/Data/TELL/Production_Runs/tell_data/outputs/mlp_output',\n",
    "                                                                           pop_input_dir = '/Users/burl878/Documents/IMMM/Data/TELL/Production_Runs/tell_data/population_data',\n",
    "                                                                           save_county_data = False)\n"
   ]
  },
  {
   "cell_type": "code",
   "execution_count": 5,
   "id": "180fed5e-d89d-4815-b2c5-64f45d68095f",
   "metadata": {},
   "outputs": [
    {
     "name": "stdout",
     "output_type": "stream",
     "text": [
      "Start time =  2023-09-18 11:14:12.964598\n",
      "End time =  2023-09-18 11:15:22.170669\n",
      "Elapsed time =  0:01:09.206169\n",
      "Start time =  2023-09-18 11:15:22.506659\n",
      "End time =  2023-09-18 11:16:30.209008\n",
      "Elapsed time =  0:01:07.702456\n",
      "Start time =  2023-09-18 11:16:30.555379\n",
      "End time =  2023-09-18 11:17:38.963558\n",
      "Elapsed time =  0:01:08.408283\n",
      "Start time =  2023-09-18 11:17:39.314626\n",
      "End time =  2023-09-18 11:18:47.518277\n",
      "Elapsed time =  0:01:08.203751\n",
      "Start time =  2023-09-18 11:18:47.866543\n",
      "End time =  2023-09-18 11:19:56.442471\n",
      "Elapsed time =  0:01:08.576032\n",
      "Start time =  2023-09-18 11:19:56.800843\n",
      "End time =  2023-09-18 11:21:06.232089\n",
      "Elapsed time =  0:01:09.431347\n",
      "Start time =  2023-09-18 11:21:06.583507\n",
      "End time =  2023-09-18 11:22:15.685939\n",
      "Elapsed time =  0:01:09.102532\n",
      "Start time =  2023-09-18 11:22:16.045162\n",
      "End time =  2023-09-18 11:23:24.325906\n",
      "Elapsed time =  0:01:08.280848\n",
      "Start time =  2023-09-18 11:23:24.671796\n",
      "End time =  2023-09-18 11:24:33.106867\n",
      "Elapsed time =  0:01:08.435167\n",
      "Start time =  2023-09-18 11:24:33.455959\n",
      "End time =  2023-09-18 11:25:41.606792\n",
      "Elapsed time =  0:01:08.150934\n",
      "Start time =  2023-09-18 11:25:41.952615\n",
      "End time =  2023-09-18 11:26:50.015382\n",
      "Elapsed time =  0:01:08.062871\n",
      "Start time =  2023-09-18 11:26:50.364823\n",
      "End time =  2023-09-18 11:27:58.240440\n",
      "Elapsed time =  0:01:07.875730\n",
      "Start time =  2023-09-18 11:27:58.586621\n",
      "End time =  2023-09-18 11:29:06.461717\n",
      "Elapsed time =  0:01:07.875199\n",
      "Start time =  2023-09-18 11:29:06.810585\n",
      "End time =  2023-09-18 11:30:14.280483\n",
      "Elapsed time =  0:01:07.469996\n",
      "Start time =  2023-09-18 11:30:14.628483\n",
      "End time =  2023-09-18 11:31:22.788294\n",
      "Elapsed time =  0:01:08.159908\n",
      "Start time =  2023-09-18 11:31:23.135894\n",
      "End time =  2023-09-18 11:32:30.790377\n",
      "Elapsed time =  0:01:07.654587\n",
      "Start time =  2023-09-18 11:32:31.142248\n",
      "End time =  2023-09-18 11:33:38.922337\n",
      "Elapsed time =  0:01:07.780199\n",
      "Start time =  2023-09-18 11:33:39.269255\n",
      "End time =  2023-09-18 11:34:47.618803\n",
      "Elapsed time =  0:01:08.349646\n",
      "Start time =  2023-09-18 11:34:47.970131\n",
      "End time =  2023-09-18 11:35:57.203334\n",
      "Elapsed time =  0:01:09.233309\n",
      "Start time =  2023-09-18 11:35:57.554794\n",
      "End time =  2023-09-18 11:37:06.377368\n",
      "Elapsed time =  0:01:08.822676\n",
      "Start time =  2023-09-18 11:37:06.727306\n",
      "End time =  2023-09-18 11:38:15.114112\n",
      "Elapsed time =  0:01:08.386910\n",
      "Start time =  2023-09-18 11:38:15.462900\n",
      "End time =  2023-09-18 11:39:24.151758\n",
      "Elapsed time =  0:01:08.688967\n",
      "Start time =  2023-09-18 11:39:24.496285\n",
      "End time =  2023-09-18 11:40:33.620660\n",
      "Elapsed time =  0:01:09.124478\n",
      "Start time =  2023-09-18 11:40:33.972702\n",
      "End time =  2023-09-18 11:41:42.084854\n",
      "Elapsed time =  0:01:08.112261\n",
      "Start time =  2023-09-18 11:41:42.433059\n",
      "End time =  2023-09-18 11:42:50.629760\n",
      "Elapsed time =  0:01:08.196802\n",
      "Start time =  2023-09-18 11:42:50.977093\n",
      "End time =  2023-09-18 11:43:59.158892\n",
      "Elapsed time =  0:01:08.181903\n",
      "Start time =  2023-09-18 11:43:59.524841\n",
      "End time =  2023-09-18 11:45:08.655619\n",
      "Elapsed time =  0:01:09.130870\n",
      "Start time =  2023-09-18 11:45:09.004402\n",
      "End time =  2023-09-18 11:46:17.507713\n",
      "Elapsed time =  0:01:08.503409\n",
      "Start time =  2023-09-18 11:46:17.858533\n",
      "End time =  2023-09-18 11:47:26.235945\n",
      "Elapsed time =  0:01:08.377514\n",
      "Start time =  2023-09-18 11:47:26.586457\n",
      "End time =  2023-09-18 11:48:35.456471\n",
      "Elapsed time =  0:01:08.870114\n",
      "Start time =  2023-09-18 11:48:35.805405\n",
      "End time =  2023-09-18 11:49:45.078598\n",
      "Elapsed time =  0:01:09.273294\n",
      "Start time =  2023-09-18 11:49:45.431025\n",
      "End time =  2023-09-18 11:50:53.450363\n",
      "Elapsed time =  0:01:08.019439\n",
      "Start time =  2023-09-18 11:50:53.799837\n",
      "End time =  2023-09-18 11:52:01.943174\n",
      "Elapsed time =  0:01:08.143446\n",
      "Start time =  2023-09-18 11:52:02.299726\n",
      "End time =  2023-09-18 11:53:10.728976\n",
      "Elapsed time =  0:01:08.429354\n",
      "Start time =  2023-09-18 11:53:11.076312\n",
      "End time =  2023-09-18 11:54:20.555122\n",
      "Elapsed time =  0:01:09.478917\n",
      "Start time =  2023-09-18 11:54:20.903421\n",
      "End time =  2023-09-18 11:55:29.402792\n",
      "Elapsed time =  0:01:08.499475\n",
      "Start time =  2023-09-18 11:55:29.750462\n",
      "End time =  2023-09-18 11:56:37.947330\n",
      "Elapsed time =  0:01:08.196972\n",
      "Start time =  2023-09-18 11:56:38.294322\n",
      "End time =  2023-09-18 11:57:47.358083\n",
      "Elapsed time =  0:01:09.063864\n"
     ]
    }
   ],
   "source": [
    "for year in range(1982,2020,1):\n",
    "    summary_df, ba_time_series_df, state_time_series_df = tell.execute_forward(year_to_process = str(year),\n",
    "                                                                           gcam_target_year = '2019', \n",
    "                                                                           scenario_to_process = 'historic',\n",
    "                                                                           data_output_dir = '/Users/burl878/Documents/Code/code_repos/heat_wave_load_visualization/data/tell_output',\n",
    "                                                                           gcam_usa_input_dir = '/Users/burl878/Documents/IMMM/Data/TELL/Production_Runs/tell_data/gcamusa_data',\n",
    "                                                                           map_input_dir = '/Users/burl878/Documents/IMMM/Data/TELL/Production_Runs/tell_data/ba_service_territory_data',\n",
    "                                                                           mlp_input_dir = '/Users/burl878/Documents/IMMM/Data/TELL/Production_Runs/tell_data/outputs/mlp_output',\n",
    "                                                                           pop_input_dir = '/Users/burl878/Documents/IMMM/Data/TELL/Production_Runs/tell_data/population_data',\n",
    "                                                                           save_county_data = False)\n"
   ]
  },
  {
   "cell_type": "code",
   "execution_count": null,
   "id": "a701c5de-c5ff-4ef6-8e96-860fd4c42ede",
   "metadata": {},
   "outputs": [],
   "source": []
  }
 ],
 "metadata": {
  "kernelspec": {
   "display_name": "py3.9.15_std",
   "language": "python",
   "name": "py3.9.15_std"
  },
  "language_info": {
   "codemirror_mode": {
    "name": "ipython",
    "version": 3
   },
   "file_extension": ".py",
   "mimetype": "text/x-python",
   "name": "python",
   "nbconvert_exporter": "python",
   "pygments_lexer": "ipython3",
   "version": "3.9.15"
  }
 },
 "nbformat": 4,
 "nbformat_minor": 5
}
