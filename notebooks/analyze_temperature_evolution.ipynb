{
 "cells": [
  {
   "cell_type": "markdown",
   "id": "9e071b84",
   "metadata": {
    "pycharm": {
     "name": "#%% md\n"
    }
   },
   "source": [
    "# Analyze Tempearture Evolution\n",
    "\n",
    "This notebook plots the time series of daily maximum temperature by BA."
   ]
  },
  {
   "cell_type": "code",
   "execution_count": null,
   "id": "86db683a-70a2-4f89-a1d6-4c6d5f180272",
   "metadata": {
    "pycharm": {
     "name": "#%%\n"
    }
   },
   "outputs": [],
   "source": [
    "# Start by importing the packages we need:\n",
    "import os\n",
    "\n",
    "import pandas as pd\n",
    "import numpy as np\n",
    "import matplotlib.pyplot as plt\n",
    "\n",
    "from glob import glob\n",
    "from datetime import timedelta\n"
   ]
  },
  {
   "cell_type": "markdown",
   "id": "566fce96-4576-4a2d-9db6-4d0be72b3c1d",
   "metadata": {
    "pycharm": {
     "name": "#%% md\n"
    }
   },
   "source": [
    "## Set the Directory Structure"
   ]
  },
  {
   "cell_type": "code",
   "execution_count": null,
   "id": "f7cc0f66-ba83-47d4-b161-0b1ad076064c",
   "metadata": {
    "pycharm": {
     "name": "#%%\n"
    }
   },
   "outputs": [],
   "source": [
    "# Identify the data input and output directories:\n",
    "ba_weather_dir =  '/Users/burl878/Documents/IMMM/Data/TELL/Production_Runs/tell_data/wrf_to_tell_data/'\n",
    "ics_weather_dir =  '/Users/burl878/Documents/IMMM/Data/TELL/Analysis/Interconnection_Meteorology_Time_Series/'\n",
    "ba_mapping_dir =  '/Users/burl878/Documents/IMMM/Data/TELL/Analysis/'\n",
    "output_dir = '/Users/burl878/Documents/IMMM/Data/TELL/Analysis/BA_Min_Max_Temperature_Time_Series/'\n",
    "image_output_dir = '/Users/burl878/Documents/Code/code_repos/heat_wave_load_visualization/plots/'\n"
   ]
  },
  {
   "cell_type": "markdown",
   "id": "f9048639",
   "metadata": {
    "pycharm": {
     "name": "#%% md\n"
    }
   },
   "source": [
    "## Process the Historical Daily Minimum and Maximum Temperature Time Series\n"
   ]
  },
  {
   "cell_type": "code",
   "execution_count": null,
   "id": "04afab9a",
   "metadata": {
    "pycharm": {
     "name": "#%%\n"
    }
   },
   "outputs": [],
   "source": [
    "# Define a function to process the daily maximum and minimum temperature time series:\n",
    "def process_daily_min_max_time_series(ba_weather_dir: str, ics_weather_dir: str, output_dir: str, ics_to_process: str):\n",
    "    \n",
    "    # Read in the BA-to-Interconnection mapping file:\n",
    "    ba_df = pd.read_csv((ba_mapping_dir + 'BA_to_Interconnection_Mapping.csv'))\n",
    " \n",
    "    # Subset to just the interconnection you want to process:\n",
    "    ba_list = ba_df['BA_Code'].loc[ba_df['Interconnection'] == ics_to_process].unique()\n",
    "\n",
    "    # Loop over the list of BAs in the interconnection:\n",
    "    for i in range(len(ba_list)):\n",
    "        \n",
    "        # Loop over the years from the 1980 to 2022:\n",
    "        for year in range(1980,2023,1):\n",
    "            if year <= 2019:\n",
    "               # Create the filename for the given BA and year combination:\n",
    "               filename = (ba_weather_dir + 'historic/' + ba_list[i] + '_WRF_Hourly_Mean_Meteorology_' + str(year) + '.csv')\n",
    "            else:\n",
    "               # Create the filename for the given BA and year combination:\n",
    "               filename = (ba_weather_dir + 'historic_2020_2022/' + ba_list[i] + '_WRF_Hourly_Mean_Meteorology_' + str(year) + '.csv') \n",
    "    \n",
    "            # Read in the .csv file:\n",
    "            met_df = pd.read_csv(filename)\n",
    "    \n",
    "            # Set the time variable as an index:\n",
    "            met_df.index = pd.to_datetime(met_df['Time_UTC'])\n",
    "        \n",
    "            # Convert the temperature from Kelvin to Fahrenheit:\n",
    "            met_df['T2'] = (1.8 * (met_df['T2'] - 273)) + 32\n",
    "    \n",
    "            # Compute the daily minimum and maximum temperature using resampling:\n",
    "            temp_df = met_df.resample('D')['T2'].agg(['min', 'max']).reset_index()\n",
    "        \n",
    "            # Rename the variables for consistency:\n",
    "            temp_df.rename(columns={'Time_UTC': 'Day', 'min': 'T2_Min', 'max': 'T2_Max'}, inplace=True)\n",
    "        \n",
    "            # Round off the min and max temperature variables:\n",
    "            temp_df['T2_Min'] = temp_df['T2_Min'].round(2)\n",
    "            temp_df['T2_Max'] = temp_df['T2_Max'].round(2)\n",
    "        \n",
    "            # Add a column with the year values to be used in grouping:\n",
    "            temp_df['Year'] = temp_df['Day'].dt.strftime('%Y')\n",
    "        \n",
    "            # Set the day value as a datetime variable:\n",
    "            temp_df['Day'] = pd.to_datetime(temp_df['Day'])\n",
    "        \n",
    "            # Compute the day of the year to be used in plotting:\n",
    "            temp_df['Day_of_Year'] = temp_df['Day'].dt.dayofyear\n",
    "        \n",
    "            # Add in the BA code: \n",
    "            temp_df['BA'] = ba_list[i]\n",
    "            \n",
    "            # Reorder some of the variables:\n",
    "            temp_df = temp_df[['BA', 'Day', 'Year', 'Day_of_Year', 'T2_Min', 'T2_Max']].copy()\n",
    "        \n",
    "            # Aggregate the output into a new dataframe:\n",
    "            if year == 1980:\n",
    "               ba_output_df = temp_df\n",
    "            else:\n",
    "               ba_output_df = pd.concat([ba_output_df, temp_df])\n",
    "    \n",
    "        # Aggregate the output into a new dataframe:\n",
    "        if i == 0:\n",
    "           ics_output_df = ba_output_df\n",
    "        else:\n",
    "           ics_output_df = pd.concat([ics_output_df, ba_output_df])\n",
    "    \n",
    "    # Loop over the years from the 1980 to 2022:\n",
    "    for year in range(1980,2023,1):\n",
    "                   \n",
    "        # Read in the .csv file:\n",
    "        met_df = pd.read_csv((ics_weather_dir + 'Interconnection_Meteorology_' + str(year) + '.csv'))\n",
    "        \n",
    "        # Subset to just the interconnection you want to process:\n",
    "        met_df = met_df.loc[met_df['Interconnection'] == ics_to_process]\n",
    "        \n",
    "        # Set the time variable as an index:\n",
    "        met_df.index = pd.to_datetime(met_df['Time_UTC'])\n",
    "        \n",
    "        # Convert the temperature from Kelvin to Fahrenheit:\n",
    "        met_df['T2'] = (1.8 * (met_df['T2'] - 273)) + 32\n",
    "    \n",
    "        # Compute the daily minimum and maximum temperature using resampling:\n",
    "        temp_df = met_df.resample('D')['T2'].agg(['min', 'max']).reset_index()\n",
    "        \n",
    "        # Rename the variables for consistency:\n",
    "        temp_df.rename(columns={'Time_UTC': 'Day', 'min': 'T2_Min', 'max': 'T2_Max'}, inplace=True)\n",
    "        \n",
    "        # Round off the min and max temperature variables:\n",
    "        temp_df['T2_Min'] = temp_df['T2_Min'].round(2)\n",
    "        temp_df['T2_Max'] = temp_df['T2_Max'].round(2)\n",
    "        \n",
    "        # Add a column with the year values to be used in grouping:\n",
    "        temp_df['Year'] = temp_df['Day'].dt.strftime('%Y')\n",
    "        \n",
    "        # Set the day value as a datetime variable:\n",
    "        temp_df['Day'] = pd.to_datetime(temp_df['Day'])\n",
    "        \n",
    "        # Compute the day of the year to be used in plotting:\n",
    "        temp_df['Day_of_Year'] = temp_df['Day'].dt.dayofyear\n",
    "        \n",
    "        # Add in the BA code: \n",
    "        temp_df['BA'] = ics_to_process\n",
    "            \n",
    "        # Reorder some of the variables:\n",
    "        temp_df = temp_df[['BA', 'Day', 'Year', 'Day_of_Year', 'T2_Min', 'T2_Max']].copy()\n",
    "    \n",
    "        # Aggregate the output into a new dataframe:\n",
    "        if year == 1980:\n",
    "           ics_df = temp_df\n",
    "        else:\n",
    "           ics_df = pd.concat([ics_df, temp_df])\n",
    "           \n",
    "    # Concatenate the two primary dfs:\n",
    "    ics_output_df = pd.concat([ics_output_df, ics_df])\n",
    "    \n",
    "    # Write out the dataframe to a .csv file:\n",
    "    ics_output_df.to_csv((os.path.join(output_dir + ics_to_process + '_Min_Max_Temperature_1981_to_2019.csv')), sep=',', index=False)\n",
    "    \n",
    "    return ics_output_df \n"
   ]
  },
  {
   "cell_type": "code",
   "execution_count": null,
   "id": "180fed5e-d89d-4815-b2c5-64f45d68095f",
   "metadata": {},
   "outputs": [],
   "source": [
    "ics_output_df = process_daily_min_max_time_series(ba_weather_dir = ba_weather_dir, \n",
    "                                                  ics_weather_dir = ics_weather_dir, \n",
    "                                                  output_dir = output_dir, \n",
    "                                                  ics_to_process = 'ERCOT')\n",
    "\n",
    "ics_output_df\n"
   ]
  },
  {
   "cell_type": "code",
   "execution_count": null,
   "id": "a2b28143-bfcf-40d6-88c1-d0f65ba324f0",
   "metadata": {
    "tags": []
   },
   "outputs": [],
   "source": [
    "# Define a function to plot the annual mean and maximum temperature time series:\n",
    "def plot_year_temperature_highlight(ba_weather_dir: str, ics_weather_dir: str, output_dir: str, ics_to_process: str, ba_to_plot: str,\n",
    "                                    year_to_highlight: str, image_output_dir: str, image_resolution: int, save_images=False):\n",
    "    \n",
    "    # Check to see if the aggregate file exist and if not then create it:\n",
    "    if os.path.exists((os.path.join(output_dir + ics_to_process + '_Min_Max_Temperature_1981_to_2019.csv'))) == False:\n",
    "       ics_output_df = process_daily_min_max_time_series(ba_weather_dir = ba_weather_dir, \n",
    "                                                         ics_weather_dir = ics_weather_dir, \n",
    "                                                         output_dir = output_dir, \n",
    "                                                         ics_to_process = 'EIC')\n",
    "    else:\n",
    "       # Read in the aggregate file:\n",
    "       ics_output_df = pd.read_csv((os.path.join(output_dir + ics_to_process + '_Min_Max_Temperature_1981_to_2019.csv')))\n",
    "      \n",
    "    # Compute the mean T2 max and mean as a function of day of year:\n",
    "    ics_output_df['Mean_T2_Min'] =  ics_output_df.groupby(['BA','Day_of_Year'])['T2_Min'].transform('mean')\n",
    "    ics_output_df['Mean_T2_Max'] =  ics_output_df.groupby(['BA','Day_of_Year'])['T2_Max'].transform('mean')\n",
    "    \n",
    "    # Subset to just the data for the interconnection and BA you want to plot:\n",
    "    ics_df = ics_output_df.loc[ics_output_df['BA'] == ics_to_process]\n",
    "    ba_df = ics_output_df.loc[ics_output_df['BA'] == ba_to_plot]\n",
    "    \n",
    "    # Pull out the year you want to highlight:\n",
    "    ics_highlight_df = ics_df.loc[ics_df['Year'] == year_to_highlight]\n",
    "    ba_highlight_df = ba_df.loc[ba_df['Year'] == year_to_highlight]\n",
    "    \n",
    "    # Make the plot:\n",
    "    plt.figure(figsize=(25, 20))\n",
    "    plt.rcParams['font.size'] = 24\n",
    "    \n",
    "    plt.subplot(2,1,1)\n",
    "    plt.fill_between([184, 184, 190, 190], [57, 102, 102, 57], color='red', alpha=0.15)\n",
    "    plt.fill_between([203, 203, 209, 209], [57, 102, 102, 57], color='red', alpha=0.15)\n",
    "    plt.scatter(ics_df['Day_of_Year'], ics_df['T2_Max'], 25, 'gray', label='1980-2022')\n",
    "    plt.scatter(ics_df['Day_of_Year'], ics_df['Mean_T2_Max'], 25, 'black', label='1980-2022 Mean')\n",
    "    plt.scatter(ics_df['Day_of_Year'], ics_df['Mean_T2_Max'], 75, 'black')\n",
    "    plt.scatter(ics_highlight_df['Day_of_Year'], ics_highlight_df['T2_Max'], 25, 'red', label=str(year_to_highlight))\n",
    "    plt.scatter(ics_highlight_df['Day_of_Year'], ics_highlight_df['T2_Max'], 75, 'red')\n",
    "    plt.plot(ics_highlight_df['Day_of_Year'], ics_highlight_df['T2_Max'], 'r-', linewidth=3)\n",
    "    plt.xlim([152, 244])\n",
    "    plt.xticks([152, 166, 182, 196, 213, 227, 244], ['1-Jun', '15-Jun', '1-Jul', '15-Jul', '1-Aug', '15-Aug', '1-Sep'])\n",
    "    plt.ylim([57, 102])\n",
    "    plt.legend(loc='lower right', prop={'size': 24})\n",
    "    plt.ylabel('Daily Maximum Temperature [$^\\circ$F]')\n",
    "    plt.title(('Population-Weighted Temperature in the ' + ics_to_process))\n",
    "\n",
    "    plt.subplot(2,1,2)\n",
    "    plt.fill_between([184, 184, 190, 190], [57, 102, 102, 57], color='red', alpha=0.15)\n",
    "    plt.fill_between([203, 203, 209, 209], [57, 102, 102, 57], color='red', alpha=0.15)\n",
    "    plt.scatter(ba_df['Day_of_Year'], ba_df['T2_Max'], 25, 'gray', label='1980-2022')\n",
    "    plt.scatter(ba_df['Day_of_Year'], ba_df['Mean_T2_Max'], 25, 'black', label='1980-2022 Mean')\n",
    "    plt.scatter(ba_df['Day_of_Year'], ba_df['Mean_T2_Max'], 75, 'black')\n",
    "    plt.scatter(ba_highlight_df['Day_of_Year'], ba_highlight_df['T2_Max'], 25, 'red', label=str(year_to_highlight))\n",
    "    plt.scatter(ba_highlight_df['Day_of_Year'], ba_highlight_df['T2_Max'], 75, 'red')\n",
    "    plt.plot(ba_highlight_df['Day_of_Year'], ba_highlight_df['T2_Max'], 'r-', linewidth=3)\n",
    "    plt.xlim([152, 244])\n",
    "    plt.xticks([152, 166, 182, 196, 213, 227, 244], ['1-Jun', '15-Jun', '1-Jul', '15-Jul', '1-Aug', '15-Aug', '1-Sep'])\n",
    "    plt.ylim([57, 102])\n",
    "    plt.legend(loc='lower right', prop={'size': 24})\n",
    "    plt.ylabel('Daily Maximum Temperature [$^\\circ$F]')\n",
    "    plt.title(('Population-Weighted Temperature in the ' + ba_to_plot + ' Service Territory'))\n",
    "    \n",
    "    # If the \"save_images\" flag is set to true then save the plot to a .png file:\n",
    "    if save_images == True:\n",
    "       plt.savefig(os.path.join(image_output_dir, (ics_to_process + '_' + ba_to_plot + '_' + str(year_to_highlight) + '_Temperature_Evolution.png')), \n",
    "                   dpi=image_resolution, bbox_inches='tight', facecolor='white')\n",
    "        "
   ]
  },
  {
   "cell_type": "code",
   "execution_count": null,
   "id": "1172d541-2f0f-493f-98be-bd2d0c47f8c9",
   "metadata": {
    "tags": []
   },
   "outputs": [],
   "source": [
    "plot_year_temperature_highlight(ba_weather_dir = ba_weather_dir, \n",
    "                                ics_weather_dir = ics_weather_dir, \n",
    "                                output_dir = output_dir, \n",
    "                                ics_to_process = 'WECC',\n",
    "                                ba_to_plot = 'LDWP',\n",
    "                                year_to_highlight = 2014,\n",
    "                                image_output_dir = image_output_dir, \n",
    "                                image_resolution = 300, \n",
    "                                save_images = True)\n"
   ]
  },
  {
   "cell_type": "code",
   "execution_count": null,
   "id": "cd9b7d23-47e7-4260-8665-3706ad0bc15e",
   "metadata": {},
   "outputs": [],
   "source": []
  }
 ],
 "metadata": {
  "kernelspec": {
   "display_name": "py3.9.15_std",
   "language": "python",
   "name": "py3.9.15_std"
  },
  "language_info": {
   "codemirror_mode": {
    "name": "ipython",
    "version": 3
   },
   "file_extension": ".py",
   "mimetype": "text/x-python",
   "name": "python",
   "nbconvert_exporter": "python",
   "pygments_lexer": "ipython3",
   "version": "3.9.15"
  }
 },
 "nbformat": 4,
 "nbformat_minor": 5
}
